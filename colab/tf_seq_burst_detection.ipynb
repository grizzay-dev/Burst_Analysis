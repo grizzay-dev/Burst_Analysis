{
  "nbformat": 4,
  "nbformat_minor": 0,
  "metadata": {
    "colab": {
      "name": "tf_seq_burst_detection.ipynb",
      "provenance": [],
      "authorship_tag": "ABX9TyN4btfr+TlSYTvZWOs4z8zr",
      "include_colab_link": true
    },
    "kernelspec": {
      "name": "python3",
      "display_name": "Python 3"
    },
    "language_info": {
      "name": "python"
    }
  },
  "cells": [
    {
      "cell_type": "markdown",
      "metadata": {
        "id": "view-in-github",
        "colab_type": "text"
      },
      "source": [
        "<a href=\"https://colab.research.google.com/github/grizzay-dev/Burst_Analysis/blob/master/colab/tf_seq_burst_detection.ipynb\" target=\"_parent\"><img src=\"https://colab.research.google.com/assets/colab-badge.svg\" alt=\"Open In Colab\"/></a>"
      ]
    },
    {
      "cell_type": "code",
      "source": [
        "!pip install tensorflow\n",
        "!pip install pandas"
      ],
      "metadata": {
        "colab": {
          "base_uri": "https://localhost:8080/"
        },
        "id": "yCUKHKq_clfP",
        "outputId": "127cbf9d-9c85-43f7-c035-4bf39b32f86f"
      },
      "execution_count": 1,
      "outputs": [
        {
          "output_type": "stream",
          "name": "stdout",
          "text": [
            "Looking in indexes: https://pypi.org/simple, https://us-python.pkg.dev/colab-wheels/public/simple/\n",
            "Requirement already satisfied: tensorflow in /usr/local/lib/python3.7/dist-packages (2.8.2+zzzcolab20220527125636)\n",
            "Requirement already satisfied: flatbuffers>=1.12 in /usr/local/lib/python3.7/dist-packages (from tensorflow) (2.0)\n",
            "Requirement already satisfied: wrapt>=1.11.0 in /usr/local/lib/python3.7/dist-packages (from tensorflow) (1.14.1)\n",
            "Requirement already satisfied: grpcio<2.0,>=1.24.3 in /usr/local/lib/python3.7/dist-packages (from tensorflow) (1.46.3)\n",
            "Requirement already satisfied: gast>=0.2.1 in /usr/local/lib/python3.7/dist-packages (from tensorflow) (0.5.3)\n",
            "Requirement already satisfied: numpy>=1.20 in /usr/local/lib/python3.7/dist-packages (from tensorflow) (1.21.6)\n",
            "Requirement already satisfied: tensorflow-io-gcs-filesystem>=0.23.1 in /usr/local/lib/python3.7/dist-packages (from tensorflow) (0.26.0)\n",
            "Requirement already satisfied: setuptools in /usr/local/lib/python3.7/dist-packages (from tensorflow) (57.4.0)\n",
            "Requirement already satisfied: typing-extensions>=3.6.6 in /usr/local/lib/python3.7/dist-packages (from tensorflow) (4.1.1)\n",
            "Requirement already satisfied: keras<2.9,>=2.8.0rc0 in /usr/local/lib/python3.7/dist-packages (from tensorflow) (2.8.0)\n",
            "Requirement already satisfied: libclang>=9.0.1 in /usr/local/lib/python3.7/dist-packages (from tensorflow) (14.0.1)\n",
            "Requirement already satisfied: tensorflow-estimator<2.9,>=2.8 in /usr/local/lib/python3.7/dist-packages (from tensorflow) (2.8.0)\n",
            "Requirement already satisfied: h5py>=2.9.0 in /usr/local/lib/python3.7/dist-packages (from tensorflow) (3.1.0)\n",
            "Requirement already satisfied: protobuf<3.20,>=3.9.2 in /usr/local/lib/python3.7/dist-packages (from tensorflow) (3.17.3)\n",
            "Requirement already satisfied: six>=1.12.0 in /usr/local/lib/python3.7/dist-packages (from tensorflow) (1.15.0)\n",
            "Requirement already satisfied: termcolor>=1.1.0 in /usr/local/lib/python3.7/dist-packages (from tensorflow) (1.1.0)\n",
            "Requirement already satisfied: astunparse>=1.6.0 in /usr/local/lib/python3.7/dist-packages (from tensorflow) (1.6.3)\n",
            "Requirement already satisfied: google-pasta>=0.1.1 in /usr/local/lib/python3.7/dist-packages (from tensorflow) (0.2.0)\n",
            "Requirement already satisfied: opt-einsum>=2.3.2 in /usr/local/lib/python3.7/dist-packages (from tensorflow) (3.3.0)\n",
            "Requirement already satisfied: tensorboard<2.9,>=2.8 in /usr/local/lib/python3.7/dist-packages (from tensorflow) (2.8.0)\n",
            "Requirement already satisfied: keras-preprocessing>=1.1.1 in /usr/local/lib/python3.7/dist-packages (from tensorflow) (1.1.2)\n",
            "Requirement already satisfied: absl-py>=0.4.0 in /usr/local/lib/python3.7/dist-packages (from tensorflow) (1.1.0)\n",
            "Requirement already satisfied: wheel<1.0,>=0.23.0 in /usr/local/lib/python3.7/dist-packages (from astunparse>=1.6.0->tensorflow) (0.37.1)\n",
            "Requirement already satisfied: cached-property in /usr/local/lib/python3.7/dist-packages (from h5py>=2.9.0->tensorflow) (1.5.2)\n",
            "Requirement already satisfied: google-auth<3,>=1.6.3 in /usr/local/lib/python3.7/dist-packages (from tensorboard<2.9,>=2.8->tensorflow) (1.35.0)\n",
            "Requirement already satisfied: google-auth-oauthlib<0.5,>=0.4.1 in /usr/local/lib/python3.7/dist-packages (from tensorboard<2.9,>=2.8->tensorflow) (0.4.6)\n",
            "Requirement already satisfied: tensorboard-data-server<0.7.0,>=0.6.0 in /usr/local/lib/python3.7/dist-packages (from tensorboard<2.9,>=2.8->tensorflow) (0.6.1)\n",
            "Requirement already satisfied: werkzeug>=0.11.15 in /usr/local/lib/python3.7/dist-packages (from tensorboard<2.9,>=2.8->tensorflow) (1.0.1)\n",
            "Requirement already satisfied: tensorboard-plugin-wit>=1.6.0 in /usr/local/lib/python3.7/dist-packages (from tensorboard<2.9,>=2.8->tensorflow) (1.8.1)\n",
            "Requirement already satisfied: markdown>=2.6.8 in /usr/local/lib/python3.7/dist-packages (from tensorboard<2.9,>=2.8->tensorflow) (3.3.7)\n",
            "Requirement already satisfied: requests<3,>=2.21.0 in /usr/local/lib/python3.7/dist-packages (from tensorboard<2.9,>=2.8->tensorflow) (2.23.0)\n",
            "Requirement already satisfied: rsa<5,>=3.1.4 in /usr/local/lib/python3.7/dist-packages (from google-auth<3,>=1.6.3->tensorboard<2.9,>=2.8->tensorflow) (4.8)\n",
            "Requirement already satisfied: cachetools<5.0,>=2.0.0 in /usr/local/lib/python3.7/dist-packages (from google-auth<3,>=1.6.3->tensorboard<2.9,>=2.8->tensorflow) (4.2.4)\n",
            "Requirement already satisfied: pyasn1-modules>=0.2.1 in /usr/local/lib/python3.7/dist-packages (from google-auth<3,>=1.6.3->tensorboard<2.9,>=2.8->tensorflow) (0.2.8)\n",
            "Requirement already satisfied: requests-oauthlib>=0.7.0 in /usr/local/lib/python3.7/dist-packages (from google-auth-oauthlib<0.5,>=0.4.1->tensorboard<2.9,>=2.8->tensorflow) (1.3.1)\n",
            "Requirement already satisfied: importlib-metadata>=4.4 in /usr/local/lib/python3.7/dist-packages (from markdown>=2.6.8->tensorboard<2.9,>=2.8->tensorflow) (4.11.4)\n",
            "Requirement already satisfied: zipp>=0.5 in /usr/local/lib/python3.7/dist-packages (from importlib-metadata>=4.4->markdown>=2.6.8->tensorboard<2.9,>=2.8->tensorflow) (3.8.0)\n",
            "Requirement already satisfied: pyasn1<0.5.0,>=0.4.6 in /usr/local/lib/python3.7/dist-packages (from pyasn1-modules>=0.2.1->google-auth<3,>=1.6.3->tensorboard<2.9,>=2.8->tensorflow) (0.4.8)\n",
            "Requirement already satisfied: chardet<4,>=3.0.2 in /usr/local/lib/python3.7/dist-packages (from requests<3,>=2.21.0->tensorboard<2.9,>=2.8->tensorflow) (3.0.4)\n",
            "Requirement already satisfied: certifi>=2017.4.17 in /usr/local/lib/python3.7/dist-packages (from requests<3,>=2.21.0->tensorboard<2.9,>=2.8->tensorflow) (2022.6.15)\n",
            "Requirement already satisfied: idna<3,>=2.5 in /usr/local/lib/python3.7/dist-packages (from requests<3,>=2.21.0->tensorboard<2.9,>=2.8->tensorflow) (2.10)\n",
            "Requirement already satisfied: urllib3!=1.25.0,!=1.25.1,<1.26,>=1.21.1 in /usr/local/lib/python3.7/dist-packages (from requests<3,>=2.21.0->tensorboard<2.9,>=2.8->tensorflow) (1.24.3)\n",
            "Requirement already satisfied: oauthlib>=3.0.0 in /usr/local/lib/python3.7/dist-packages (from requests-oauthlib>=0.7.0->google-auth-oauthlib<0.5,>=0.4.1->tensorboard<2.9,>=2.8->tensorflow) (3.2.0)\n",
            "Looking in indexes: https://pypi.org/simple, https://us-python.pkg.dev/colab-wheels/public/simple/\n",
            "Requirement already satisfied: pandas in /usr/local/lib/python3.7/dist-packages (1.3.5)\n",
            "Requirement already satisfied: python-dateutil>=2.7.3 in /usr/local/lib/python3.7/dist-packages (from pandas) (2.8.2)\n",
            "Requirement already satisfied: pytz>=2017.3 in /usr/local/lib/python3.7/dist-packages (from pandas) (2022.1)\n",
            "Requirement already satisfied: numpy>=1.17.3 in /usr/local/lib/python3.7/dist-packages (from pandas) (1.21.6)\n",
            "Requirement already satisfied: six>=1.5 in /usr/local/lib/python3.7/dist-packages (from python-dateutil>=2.7.3->pandas) (1.15.0)\n"
          ]
        }
      ]
    },
    {
      "cell_type": "code",
      "execution_count": 4,
      "metadata": {
        "colab": {
          "resources": {
            "http://localhost:8080/nbextensions/google.colab/files.js": {
              "data": "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",
              "ok": true,
              "headers": [
                [
                  "content-type",
                  "application/javascript"
                ]
              ],
              "status": 200,
              "status_text": ""
            }
          },
          "base_uri": "https://localhost:8080/",
          "height": 73
        },
        "id": "JanlWNn5caxJ",
        "outputId": "5c57f0ea-12fd-4f86-c6b5-a52f5676e1b5"
      },
      "outputs": [
        {
          "output_type": "display_data",
          "data": {
            "text/plain": [
              "<IPython.core.display.HTML object>"
            ],
            "text/html": [
              "\n",
              "     <input type=\"file\" id=\"files-69fc0a53-6996-49ef-bbe3-0399963d6ea8\" name=\"files[]\" multiple disabled\n",
              "        style=\"border:none\" />\n",
              "     <output id=\"result-69fc0a53-6996-49ef-bbe3-0399963d6ea8\">\n",
              "      Upload widget is only available when the cell has been executed in the\n",
              "      current browser session. Please rerun this cell to enable.\n",
              "      </output>\n",
              "      <script src=\"/nbextensions/google.colab/files.js\"></script> "
            ]
          },
          "metadata": {}
        },
        {
          "output_type": "stream",
          "name": "stdout",
          "text": [
            "Saving ttree_output4.csv to ttree_output4.csv\n"
          ]
        }
      ],
      "source": [
        "from numpy import loadtxt\n",
        "from tensorflow.keras.models import Sequential\n",
        "from tensorflow.keras.layers import Dense\n",
        "from tensorflow.keras import layers\n",
        "\n",
        "import io\n",
        "\n",
        "from google.colab import files\n",
        "uploaded = files.upload()"
      ]
    },
    {
      "cell_type": "code",
      "source": [
        "dataset = loadtxt(io.BytesIO(uploaded['ttree_output4.csv']), delimiter=',')\n",
        "\n",
        "#split into input (x) and output (y)\n",
        "X = dataset[:,0:15]\n",
        "y = dataset[:,15]"
      ],
      "metadata": {
        "id": "9b_9Waa1cpPN"
      },
      "execution_count": 5,
      "outputs": []
    },
    {
      "cell_type": "code",
      "source": [
        "print(X[1].tolist())\n",
        "print(y[1])"
      ],
      "metadata": {
        "colab": {
          "base_uri": "https://localhost:8080/"
        },
        "id": "F3Cz9-pwdN2k",
        "outputId": "b71b5f6f-9653-40fa-9ae7-0f7a26a7adc1"
      },
      "execution_count": 6,
      "outputs": [
        {
          "output_type": "stream",
          "name": "stdout",
          "text": [
            "[0.0284337, 3.82915, 0.00481285, 0.0, 0.00433614, 0.00124996, 0.0400907, 0.00183342, 45.7249, 4.41741, 2.18355, 0.0469912, 0.00393261, 0.0003, 0.0164068]\n",
            "1.0\n"
          ]
        }
      ]
    },
    {
      "cell_type": "code",
      "source": [
        "normalize = layers.Normalization()\n",
        "normalize.adapt(X)"
      ],
      "metadata": {
        "id": "Ivm8lkTxdPrC"
      },
      "execution_count": 7,
      "outputs": []
    },
    {
      "cell_type": "code",
      "source": [
        "model = Sequential()\n",
        "model.add(normalize)\n",
        "model.add(Dense(12, input_shape=(15,), activation='relu'))\n",
        "model.add(Dense(8, activation='relu'))\n",
        "model.add(Dense(1, activation='sigmoid'))"
      ],
      "metadata": {
        "id": "0y8XtUTJdRXq"
      },
      "execution_count": 8,
      "outputs": []
    },
    {
      "cell_type": "code",
      "source": [
        "model.compile(loss='binary_crossentropy', optimizer='adam', metrics=['accuracy'])\n",
        "#model.fit(X,y, epochs=150, batch_size=10, verbose=1)\n",
        "model.fit(X,y, epochs=60, verbose=1)"
      ],
      "metadata": {
        "colab": {
          "base_uri": "https://localhost:8080/"
        },
        "id": "9cyEKU65dScq",
        "outputId": "6e790986-5215-443a-d93a-0569722b3d30"
      },
      "execution_count": 9,
      "outputs": [
        {
          "output_type": "stream",
          "name": "stdout",
          "text": [
            "Epoch 1/60\n",
            "110/110 [==============================] - 1s 2ms/step - loss: 0.6866 - accuracy: 0.5872\n",
            "Epoch 2/60\n",
            "110/110 [==============================] - 0s 2ms/step - loss: 0.5868 - accuracy: 0.6908\n",
            "Epoch 3/60\n",
            "110/110 [==============================] - 0s 2ms/step - loss: 0.5421 - accuracy: 0.7260\n",
            "Epoch 4/60\n",
            "110/110 [==============================] - 0s 2ms/step - loss: 0.5192 - accuracy: 0.7531\n",
            "Epoch 5/60\n",
            "110/110 [==============================] - 0s 2ms/step - loss: 0.5039 - accuracy: 0.7629\n",
            "Epoch 6/60\n",
            "110/110 [==============================] - 0s 2ms/step - loss: 0.4923 - accuracy: 0.7703\n",
            "Epoch 7/60\n",
            "110/110 [==============================] - 0s 2ms/step - loss: 0.4813 - accuracy: 0.7766\n",
            "Epoch 8/60\n",
            "110/110 [==============================] - 0s 2ms/step - loss: 0.4720 - accuracy: 0.7803\n",
            "Epoch 9/60\n",
            "110/110 [==============================] - 0s 2ms/step - loss: 0.4629 - accuracy: 0.7895\n",
            "Epoch 10/60\n",
            "110/110 [==============================] - 0s 2ms/step - loss: 0.4551 - accuracy: 0.7943\n",
            "Epoch 11/60\n",
            "110/110 [==============================] - 0s 2ms/step - loss: 0.4475 - accuracy: 0.7986\n",
            "Epoch 12/60\n",
            "110/110 [==============================] - 0s 2ms/step - loss: 0.4412 - accuracy: 0.8049\n",
            "Epoch 13/60\n",
            "110/110 [==============================] - 0s 2ms/step - loss: 0.4349 - accuracy: 0.8058\n",
            "Epoch 14/60\n",
            "110/110 [==============================] - 0s 2ms/step - loss: 0.4303 - accuracy: 0.8095\n",
            "Epoch 15/60\n",
            "110/110 [==============================] - 0s 2ms/step - loss: 0.4251 - accuracy: 0.8135\n",
            "Epoch 16/60\n",
            "110/110 [==============================] - 0s 2ms/step - loss: 0.4204 - accuracy: 0.8175\n",
            "Epoch 17/60\n",
            "110/110 [==============================] - 0s 2ms/step - loss: 0.4169 - accuracy: 0.8164\n",
            "Epoch 18/60\n",
            "110/110 [==============================] - 0s 2ms/step - loss: 0.4131 - accuracy: 0.8204\n",
            "Epoch 19/60\n",
            "110/110 [==============================] - 0s 2ms/step - loss: 0.4095 - accuracy: 0.8195\n",
            "Epoch 20/60\n",
            "110/110 [==============================] - 0s 2ms/step - loss: 0.4065 - accuracy: 0.8235\n",
            "Epoch 21/60\n",
            "110/110 [==============================] - 0s 2ms/step - loss: 0.4036 - accuracy: 0.8252\n",
            "Epoch 22/60\n",
            "110/110 [==============================] - 0s 2ms/step - loss: 0.4017 - accuracy: 0.8258\n",
            "Epoch 23/60\n",
            "110/110 [==============================] - 0s 2ms/step - loss: 0.3986 - accuracy: 0.8249\n",
            "Epoch 24/60\n",
            "110/110 [==============================] - 0s 2ms/step - loss: 0.3963 - accuracy: 0.8292\n",
            "Epoch 25/60\n",
            "110/110 [==============================] - 0s 2ms/step - loss: 0.3953 - accuracy: 0.8267\n",
            "Epoch 26/60\n",
            "110/110 [==============================] - 0s 2ms/step - loss: 0.3917 - accuracy: 0.8309\n",
            "Epoch 27/60\n",
            "110/110 [==============================] - 0s 2ms/step - loss: 0.3895 - accuracy: 0.8327\n",
            "Epoch 28/60\n",
            "110/110 [==============================] - 0s 2ms/step - loss: 0.3887 - accuracy: 0.8321\n",
            "Epoch 29/60\n",
            "110/110 [==============================] - 0s 2ms/step - loss: 0.3864 - accuracy: 0.8335\n",
            "Epoch 30/60\n",
            "110/110 [==============================] - 0s 2ms/step - loss: 0.3847 - accuracy: 0.8332\n",
            "Epoch 31/60\n",
            "110/110 [==============================] - 0s 2ms/step - loss: 0.3831 - accuracy: 0.8318\n",
            "Epoch 32/60\n",
            "110/110 [==============================] - 0s 2ms/step - loss: 0.3807 - accuracy: 0.8344\n",
            "Epoch 33/60\n",
            "110/110 [==============================] - 0s 2ms/step - loss: 0.3792 - accuracy: 0.8358\n",
            "Epoch 34/60\n",
            "110/110 [==============================] - 0s 2ms/step - loss: 0.3774 - accuracy: 0.8358\n",
            "Epoch 35/60\n",
            "110/110 [==============================] - 0s 2ms/step - loss: 0.3764 - accuracy: 0.8367\n",
            "Epoch 36/60\n",
            "110/110 [==============================] - 0s 2ms/step - loss: 0.3746 - accuracy: 0.8364\n",
            "Epoch 37/60\n",
            "110/110 [==============================] - 0s 2ms/step - loss: 0.3728 - accuracy: 0.8401\n",
            "Epoch 38/60\n",
            "110/110 [==============================] - 0s 2ms/step - loss: 0.3716 - accuracy: 0.8361\n",
            "Epoch 39/60\n",
            "110/110 [==============================] - 0s 2ms/step - loss: 0.3701 - accuracy: 0.8361\n",
            "Epoch 40/60\n",
            "110/110 [==============================] - 0s 2ms/step - loss: 0.3688 - accuracy: 0.8390\n",
            "Epoch 41/60\n",
            "110/110 [==============================] - 0s 2ms/step - loss: 0.3671 - accuracy: 0.8375\n",
            "Epoch 42/60\n",
            "110/110 [==============================] - 0s 2ms/step - loss: 0.3657 - accuracy: 0.8390\n",
            "Epoch 43/60\n",
            "110/110 [==============================] - 0s 2ms/step - loss: 0.3636 - accuracy: 0.8418\n",
            "Epoch 44/60\n",
            "110/110 [==============================] - 0s 2ms/step - loss: 0.3621 - accuracy: 0.8398\n",
            "Epoch 45/60\n",
            "110/110 [==============================] - 0s 2ms/step - loss: 0.3606 - accuracy: 0.8424\n",
            "Epoch 46/60\n",
            "110/110 [==============================] - 0s 2ms/step - loss: 0.3594 - accuracy: 0.8435\n",
            "Epoch 47/60\n",
            "110/110 [==============================] - 0s 2ms/step - loss: 0.3587 - accuracy: 0.8435\n",
            "Epoch 48/60\n",
            "110/110 [==============================] - 0s 2ms/step - loss: 0.3569 - accuracy: 0.8435\n",
            "Epoch 49/60\n",
            "110/110 [==============================] - 0s 2ms/step - loss: 0.3547 - accuracy: 0.8430\n",
            "Epoch 50/60\n",
            "110/110 [==============================] - 0s 2ms/step - loss: 0.3540 - accuracy: 0.8427\n",
            "Epoch 51/60\n",
            "110/110 [==============================] - 0s 2ms/step - loss: 0.3520 - accuracy: 0.8464\n",
            "Epoch 52/60\n",
            "110/110 [==============================] - 0s 2ms/step - loss: 0.3513 - accuracy: 0.8478\n",
            "Epoch 53/60\n",
            "110/110 [==============================] - 0s 2ms/step - loss: 0.3501 - accuracy: 0.8447\n",
            "Epoch 54/60\n",
            "110/110 [==============================] - 0s 2ms/step - loss: 0.3491 - accuracy: 0.8473\n",
            "Epoch 55/60\n",
            "110/110 [==============================] - 0s 2ms/step - loss: 0.3476 - accuracy: 0.8487\n",
            "Epoch 56/60\n",
            "110/110 [==============================] - 0s 2ms/step - loss: 0.3466 - accuracy: 0.8501\n",
            "Epoch 57/60\n",
            "110/110 [==============================] - 0s 2ms/step - loss: 0.3452 - accuracy: 0.8533\n",
            "Epoch 58/60\n",
            "110/110 [==============================] - 0s 2ms/step - loss: 0.3438 - accuracy: 0.8493\n",
            "Epoch 59/60\n",
            "110/110 [==============================] - 0s 2ms/step - loss: 0.3436 - accuracy: 0.8464\n",
            "Epoch 60/60\n",
            "110/110 [==============================] - 0s 2ms/step - loss: 0.3418 - accuracy: 0.8481\n"
          ]
        },
        {
          "output_type": "execute_result",
          "data": {
            "text/plain": [
              "<keras.callbacks.History at 0x7fe877dc4f90>"
            ]
          },
          "metadata": {},
          "execution_count": 9
        }
      ]
    },
    {
      "cell_type": "code",
      "source": [
        "#evaluate the keras model\n",
        "_, accuracy = model.evaluate(X,y)\n",
        "print('Accuracy: %.2f' % (accuracy*100))"
      ],
      "metadata": {
        "colab": {
          "base_uri": "https://localhost:8080/"
        },
        "id": "dQ7Q255tdUST",
        "outputId": "882a3200-141c-4441-a87c-bee5d31b54fc"
      },
      "execution_count": 10,
      "outputs": [
        {
          "output_type": "stream",
          "name": "stdout",
          "text": [
            "110/110 [==============================] - 0s 2ms/step - loss: 0.3388 - accuracy: 0.8490\n",
            "Accuracy: 84.90\n"
          ]
        }
      ]
    },
    {
      "cell_type": "code",
      "source": [
        "#predictions\n",
        "predictions = (model.predict(X) > 0.5).astype(int)\n",
        "\n",
        "# summarize the first 5 cases\n",
        "for i in range(30):\n",
        "  print('%s => %d (expected %d)' % (X[i].tolist(), predictions[i], y[i]))"
      ],
      "metadata": {
        "colab": {
          "base_uri": "https://localhost:8080/"
        },
        "id": "9a37bHr7dWNQ",
        "outputId": "d37834f8-30f9-4ef4-cc4f-6d64b43ba17f"
      },
      "execution_count": 12,
      "outputs": [
        {
          "output_type": "stream",
          "name": "stdout",
          "text": [
            "[0.669684, 0.919802, 0.0266793, 0.0, 0.0, 0.0, 0.0, 0.00191251, 30.3885, 2.26777, 0.576473, 0.250576, 0.0, 0.0003, 0.000167422] => 0 (expected 1)\n",
            "[0.0284337, 3.82915, 0.00481285, 0.0, 0.00433614, 0.00124996, 0.0400907, 0.00183342, 45.7249, 4.41741, 2.18355, 0.0469912, 0.00393261, 0.0003, 0.0164068] => 1 (expected 1)\n",
            "[0.299619, 5.41434, 0.014779, 0.0, 0.00115568, 0.0045038, 0.599096, 0.0171373, 40.2636, 3.54577, 1.3998, 0.521676, 0.00103185, 0.0003, 0.0] => 1 (expected 1)\n",
            "[0.0213479, 0.0659833, 0.00124869, 0.0, 0.0752775, 0.122925, 0.0, 0.000667638, 45.299, 3.88732, 0.0562354, 0.93413, 0.00468278, 0.0003, 0.00541434] => 1 (expected 1)\n",
            "[0.120932, 0.0487473, 0.0052438, 0.0, 0.0, 0.0061113, 0.0, 0.0, 42.5348, 1.75615, 1.27855, 0.552869, 0.0024488, 0.0003, 0.000145265] => 0 (expected 1)\n",
            "[0.146348, 4.97716, 0.00662988, 0.0, 0.00164986, 0.00200065, 0.00533286, 0.000261633, 44.4684, 3.86979, 0.318342, 0.797044, 0.00976647, 0.0003, 0.000166121] => 1 (expected 1)\n",
            "[0.0173708, 1.13844, 0.0, 0.0, 0.387265, 0.00903112, 0.0, 0.0178787, 34.8446, 2.72842, 0.217263, 0.365555, 0.0044666, 0.0003, 0.000104965] => 0 (expected 1)\n",
            "[0.0131571, 1.30241, 0.0301501, 0.0, 0.0291956, 0.0160666, 0.0, 0.00183582, 42.0748, 0.77573, 1.8042, 0.0182207, 0.0179417, 0.0003, 0.0707359] => 1 (expected 1)\n",
            "[0.0277963, 3.01245, 0.187698, 0.0, 0.0, 0.00270235, 0.0, 0.000308413, 37.1124, 0.584961, 1.35282, 0.00620557, 0.0, 0.0003, 0.0] => 1 (expected 1)\n",
            "[0.0543282, 1.38342, 0.0102966, 0.0, 0.00211513, 0.0220888, 0.00616047, 0.0014577, 47.8232, 3.71679, 1.66393, 0.0607701, 0.0, 0.0003, 0.0] => 1 (expected 1)\n",
            "[0.0202709, 1.99537, 0.0242675, 0.0, 0.0163614, 0.0, 0.0, 0.0805555, 41.0555, 2.50228, 1.97653, 0.0430323, 0.0458632, 0.0003, 0.000142679] => 1 (expected 1)\n",
            "[0.066955, 0.019194, 0.0, 0.0, 0.0102806, 0.00732139, 0.25605, 0.0036366, 46.4375, 4.00243, 0.0246703, 0.0140208, 0.0, 0.0003, 0.0153816] => 0 (expected 1)\n",
            "[0.127802, 4.20285, 0.00670856, 0.0, 0.0, 0.0, 0.0, 0.00508649, 32.7005, 3.23351, 0.203445, 0.0276837, 0.261402, 0.0003, 0.0455249] => 1 (expected 1)\n",
            "[0.0286112, 8.25153, 0.0, 0.0, 0.0, 0.0994808, 0.0686344, 0.00033028, 28.0838, 2.10978, 0.0503204, 0.0648585, 0.257037, 0.0003, 0.000361307] => 1 (expected 1)\n",
            "[0.338585, 3.1227, 0.0, 0.0, 0.0462928, 0.0, 0.743705, 0.0, 42.3561, 1.96816, 0.652011, 0.0183895, 0.229762, 0.0003, 0.00690567] => 1 (expected 1)\n",
            "[0.601889, 3.6732, 0.00124466, 0.0, 0.343371, 0.00158699, 0.013179, 0.0, 29.7081, 1.96608, 0.165352, 0.736667, 0.0116993, 0.0003, 0.00175512] => 1 (expected 1)\n",
            "[0.851238, 2.79593, 0.0915967, 0.0, 0.0, 0.0595769, 0.0, 0.0181973, 40.4653, 1.866, 0.144705, 0.456738, 0.0178192, 0.0003, 0.0] => 1 (expected 1)\n",
            "[0.0736859, 0.122699, 0.0325886, 0.0, 0.00469703, 0.00314352, 0.238957, 0.00552842, 39.1872, 1.62673, 0.025049, 0.474506, 0.200775, 0.0003, 0.0149134] => 1 (expected 1)\n",
            "[0.476737, 9.18828, 0.0, 0.0, 0.984359, 0.00528055, 0.0260047, 0.000194405, 27.2951, 2.54856, 1.11822, 0.906258, 0.00489081, 0.0003, 0.0] => 1 (expected 1)\n",
            "[0.312117, 6.89701, 0.0204418, 0.0, 0.0, 0.0, 0.00140168, 0.00113527, 36.451, 2.92896, 0.411602, 0.878621, 0.00179405, 0.0003, 0.000997043] => 1 (expected 1)\n",
            "[0.041913, 0.0107336, 0.0, 0.0, 0.0, 0.00174137, 0.647496, 0.0258266, 26.0066, 2.45574, 1.0819, 0.0355118, 0.0, 0.0003, 0.0435304] => 1 (expected 1)\n",
            "[0.0694334, 2.87269, 0.00208923, 0.0, 0.00985779, 0.0689776, 0.0169095, 0.00201995, 49.0274, 0.925024, 1.51329, 0.106131, 0.00160697, 0.0003, 0.000795003] => 1 (expected 1)\n",
            "[0.209647, 0.212312, 0.00952002, 0.0, 0.00157044, 0.0, 0.0352854, 0.00328733, 24.5736, 1.21169, 0.884065, 0.0350273, 0.011462, 0.0003, 0.000677055] => 0 (expected 1)\n",
            "[0.296881, 3.35106, 0.0166553, 0.0, 0.0, 0.0088607, 0.0224069, 0.000186418, 40.943, 3.36546, 0.00593606, 0.830164, 0.00520359, 0.0003, 0.0274764] => 1 (expected 1)\n",
            "[0.589789, 6.37851, 0.128917, 0.0, 0.0, 0.0247791, 0.0, 0.000140712, 32.4837, 0.839109, 1.47103, 0.0947614, 0.00686871, 0.0003, 0.00196609] => 1 (expected 1)\n",
            "[0.111199, 2.05622, 0.0, 0.0, 0.207169, 0.00291739, 0.0109031, 0.00259214, 41.4326, 2.91838, 1.81055, 0.00542863, 0.00332738, 0.0003, 0.0196894] => 1 (expected 1)\n",
            "[0.0428328, 5.98572, 0.0156051, 0.0, 0.0343446, 0.00193321, 0.0, 0.0, 41.0109, 2.24212, 0.604427, 0.775516, 0.0, 0.0003, 0.0791074] => 1 (expected 1)\n",
            "[0.0940507, 5.35702, 0.0, 0.0, 0.78866, 0.00113675, 0.055361, 0.000266077, 18.1624, 1.66479, 0.331316, 0.773322, 0.0162386, 0.0003, 0.000793226] => 1 (expected 1)\n",
            "[0.354106, 3.36562, 0.366159, 0.0, 0.0, 0.0, 0.0696711, 0.00139697, 41.5904, 2.57692, 0.121781, 0.75796, 0.00736535, 0.0003, 0.0] => 1 (expected 1)\n",
            "[0.0238662, 1.7594, 0.0, 0.0, 0.00163461, 0.00225708, 0.0117134, 0.0, 37.7967, 3.3663, 1.69415, 0.0131627, 0.0028316, 0.0003, 0.0012679] => 1 (expected 1)\n"
          ]
        }
      ]
    }
  ]
}