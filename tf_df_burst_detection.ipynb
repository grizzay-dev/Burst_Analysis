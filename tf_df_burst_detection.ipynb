{
  "nbformat": 4,
  "nbformat_minor": 0,
  "metadata": {
    "colab": {
      "name": "Untitled0.ipynb",
      "provenance": [],
      "authorship_tag": "ABX9TyOufxp4MAoOgI4WPJq6UJwl",
      "include_colab_link": true
    },
    "kernelspec": {
      "name": "python3",
      "display_name": "Python 3"
    },
    "language_info": {
      "name": "python"
    }
  },
  "cells": [
    {
      "cell_type": "markdown",
      "metadata": {
        "id": "view-in-github",
        "colab_type": "text"
      },
      "source": [
        "<a href=\"https://colab.research.google.com/github/grizzay-dev/Burst_Analysis/blob/master/tf_df_burst_detection.ipynb\" target=\"_parent\"><img src=\"https://colab.research.google.com/assets/colab-badge.svg\" alt=\"Open In Colab\"/></a>"
      ]
    },
    {
      "cell_type": "code",
      "source": [
        "!pip install tensorflow\n",
        "!pip install pandas"
      ],
      "metadata": {
        "id": "owWPx2kkWcXb"
      },
      "execution_count": null,
      "outputs": []
    },
    {
      "cell_type": "code",
      "execution_count": 1,
      "metadata": {
        "colab": {
          "base_uri": "https://localhost:8080/",
          "height": 356
        },
        "id": "qWgqkZloWMlU",
        "outputId": "8a6ce084-b159-4779-8dc8-522837755872"
      },
      "outputs": [
        {
          "output_type": "error",
          "ename": "ModuleNotFoundError",
          "evalue": "ignored",
          "traceback": [
            "\u001b[0;31m---------------------------------------------------------------------------\u001b[0m",
            "\u001b[0;31mModuleNotFoundError\u001b[0m                       Traceback (most recent call last)",
            "\u001b[0;32m<ipython-input-1-28a57ec9a0e7>\u001b[0m in \u001b[0;36m<module>\u001b[0;34m()\u001b[0m\n\u001b[0;32m----> 1\u001b[0;31m \u001b[0;32mimport\u001b[0m \u001b[0mtensorflow_decision_forests\u001b[0m \u001b[0;32mas\u001b[0m \u001b[0mtfdf\u001b[0m\u001b[0;34m\u001b[0m\u001b[0;34m\u001b[0m\u001b[0m\n\u001b[0m\u001b[1;32m      2\u001b[0m \u001b[0;32mimport\u001b[0m \u001b[0mnumpy\u001b[0m \u001b[0;32mas\u001b[0m \u001b[0mnp\u001b[0m\u001b[0;34m\u001b[0m\u001b[0;34m\u001b[0m\u001b[0m\n\u001b[1;32m      3\u001b[0m \u001b[0;32mimport\u001b[0m \u001b[0mpandas\u001b[0m\u001b[0;34m\u001b[0m\u001b[0;34m\u001b[0m\u001b[0m\n\u001b[1;32m      4\u001b[0m \u001b[0;32mimport\u001b[0m \u001b[0mtime\u001b[0m\u001b[0;34m\u001b[0m\u001b[0;34m\u001b[0m\u001b[0m\n",
            "\u001b[0;31mModuleNotFoundError\u001b[0m: No module named 'tensorflow_decision_forests'",
            "",
            "\u001b[0;31m---------------------------------------------------------------------------\u001b[0;32m\nNOTE: If your import is failing due to a missing package, you can\nmanually install dependencies using either !pip or !apt.\n\nTo view examples of installing some common dependencies, click the\n\"Open Examples\" button below.\n\u001b[0;31m---------------------------------------------------------------------------\u001b[0m\n"
          ],
          "errorDetails": {
            "actions": [
              {
                "action": "open_url",
                "actionText": "Open Examples",
                "url": "/notebooks/snippets/importing_libraries.ipynb"
              }
            ]
          }
        }
      ],
      "source": [
        "import tensorflow_decision_forests as tfdf\n",
        "import numpy as np\n",
        "import pandas\n",
        "import time"
      ]
    },
    {
      "cell_type": "code",
      "source": [
        "train_df = pandas.read_csv(\"ttree_output3.csv\")\n",
        "\n",
        "def split(ds, r=0.3):\n",
        "    test_ind = np.random.rand(len(ds)) < r\n",
        "    return ds[~test_ind], ds[test_ind]\n",
        "\n",
        "#split data\n",
        "np.random.seed(12)\n",
        "burst_train, burst_test = split(train_df)"
      ],
      "metadata": {
        "id": "DHQfxPq8WRqQ"
      },
      "execution_count": null,
      "outputs": []
    },
    {
      "cell_type": "code",
      "source": [
        "print(burst_train)\n",
        "print(burst_test)"
      ],
      "metadata": {
        "id": "UoERi0QEWUG8"
      },
      "execution_count": null,
      "outputs": []
    },
    {
      "cell_type": "code",
      "source": [
        "#Convert the pandas dataframe into a TensorFlow dataset\n",
        "train_ds = tfdf.keras.pd_dataframe_to_tf_dataset(burst_train, label=\"burst_type\")\n",
        "\n",
        "# Train the model\n",
        "model = tfdf.keras.RandomForestModel()\n",
        "model.fit(train_ds)"
      ],
      "metadata": {
        "id": "bK8VE1qDWjy7"
      },
      "execution_count": null,
      "outputs": []
    },
    {
      "cell_type": "code",
      "source": [
        "test_ds = tfdf.keras.pd_dataframe_to_tf_dataset(burst_test, label=\"burst_type\")\n",
        "\n",
        "model.compile(metrics=[\"accuracy\"])\n",
        "print(model.evaluate(test_ds))\n",
        "\n",
        "model.save(\"models/burst_model\")"
      ],
      "metadata": {
        "id": "CBvugxxVWmyO"
      },
      "execution_count": null,
      "outputs": []
    },
    {
      "cell_type": "code",
      "source": [
        "#Print model summary\n",
        "model.summary()"
      ],
      "metadata": {
        "id": "67Y_fXvVWsuv"
      },
      "execution_count": null,
      "outputs": []
    },
    {
      "cell_type": "code",
      "source": [
        "#Plot tree\n",
        "tfdf.model_plotter.plot_model_in_colab(model, tree_idx=1, max_depth=3)"
      ],
      "metadata": {
        "id": "0mFZlv07Wu_P"
      },
      "execution_count": null,
      "outputs": []
    },
    {
      "cell_type": "code",
      "source": [
        "tree = model.make_inspector().extract_tree(0)\n",
        "tfdf.model_plotter.plot_tree(tree)\n",
        "print(tree.pretty())\n",
        "\n",
        "with open('readme.txt', 'w') as f:\n",
        "    f.write(tree.pretty())"
      ],
      "metadata": {
        "id": "TDT-xt0PWv6Y"
      },
      "execution_count": null,
      "outputs": []
    },
    {
      "cell_type": "code",
      "source": [
        "#var importance\n",
        "model.make_inspector().variable_importances()"
      ],
      "metadata": {
        "id": "Q0Z0VbOKW1rg"
      },
      "execution_count": null,
      "outputs": []
    },
    {
      "cell_type": "code",
      "source": [
        "#plot training\n",
        "import matplotlib.pyplot as plt\n",
        "\n",
        "logs = model.make_inspector().training_logs()\n",
        "\n",
        "plt.figure(figsize=(12, 4))\n",
        "\n",
        "plt.subplot(1, 2, 1)\n",
        "plt.plot([log.num_trees for log in logs], [log.evaluation.accuracy for log in logs])\n",
        "plt.xlabel(\"Number of trees\")\n",
        "plt.ylabel(\"Accuracy (out-of-bag)\")\n",
        "\n",
        "plt.subplot(1, 2, 2)\n",
        "plt.plot([log.num_trees for log in logs], [log.evaluation.loss for log in logs])\n",
        "plt.xlabel(\"Number of trees\")\n",
        "plt.ylabel(\"Logloss (out-of-bag)\")\n",
        "\n",
        "plt.show()"
      ],
      "metadata": {
        "id": "NmafUyicW2KZ"
      },
      "execution_count": null,
      "outputs": []
    }
  ]
}